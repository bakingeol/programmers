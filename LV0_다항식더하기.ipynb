{
 "cells": [
  {
   "cell_type": "code",
   "execution_count": 92,
   "metadata": {},
   "outputs": [],
   "source": [
    "def solution(a):\n",
    "    a = a.split(' ')\n",
    "    count = []\n",
    "    count2 = 0\n",
    "    counts = 0\n",
    "    for i,j in enumerate(a):\n",
    "        if 'x' in j:\n",
    "            j = list(j)\n",
    "            del j[-1]\n",
    "            if ''.join(j) == '':\n",
    "                j = '1'\n",
    "            count.append(''.join(j))   \n",
    "        elif j.isdigit() == True:\n",
    "            count2 += int(j)\n",
    "\n",
    "    counts = sum(map(int, count))\n",
    "\n",
    "    if count2 != 0 and counts ==0:\n",
    "        return ''.join([str(count2)])    \n",
    "    elif count2 != 0 and counts != 0:\n",
    "        if counts == 1:\n",
    "            return ''.join(['x',' ','+',' ',str(count2)])\n",
    "        return ''.join([str(counts),'x',' ','+',' ',str(count2)])\n",
    "    elif count2 == 0 and counts != 0:\n",
    "        if counts == 1:\n",
    "            return ''.join(['x'])\n",
    "        return ''.join([str(counts),'x'])\n",
    "    elif count2 ==0 and counts ==0:\n",
    "        return ''"
   ]
  },
  {
   "cell_type": "markdown",
   "metadata": {},
   "source": [
    "solution : x값과 상수항을 나눠서 count로 더하는 방식으로 진행한 후 마지막에는 경우에 따라 return 해주었습니다.\n",
    "ps. 마지막 return 하는 과정에서 좀 더럽게 푼 것 같습니다...."
   ]
  }
 ],
 "metadata": {
  "kernelspec": {
   "display_name": "Python 3.9.13 ('base')",
   "language": "python",
   "name": "python3"
  },
  "language_info": {
   "codemirror_mode": {
    "name": "ipython",
    "version": 3
   },
   "file_extension": ".py",
   "mimetype": "text/x-python",
   "name": "python",
   "nbconvert_exporter": "python",
   "pygments_lexer": "ipython3",
   "version": "3.9.13"
  },
  "orig_nbformat": 4,
  "vscode": {
   "interpreter": {
    "hash": "62a4db161804f714f13a20daf0d05f1b6839aa2fc25c4b2b8b06ab71ef5c0f76"
   }
  }
 },
 "nbformat": 4,
 "nbformat_minor": 2
}
